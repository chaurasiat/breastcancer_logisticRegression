{
  "nbformat": 4,
  "nbformat_minor": 0,
  "metadata": {
    "kernelspec": {
      "display_name": "Python 3",
      "language": "python",
      "name": "python3"
    },
    "language_info": {
      "codemirror_mode": {
        "name": "ipython",
        "version": 3
      },
      "file_extension": ".py",
      "mimetype": "text/x-python",
      "name": "python",
      "nbconvert_exporter": "python",
      "pygments_lexer": "ipython3",
      "version": "3.6.5"
    },
    "colab": {
      "name": "main.ipynb",
      "provenance": [],
      "toc_visible": true
    },
    "accelerator": "GPU"
  },
  "cells": [
    {
      "cell_type": "markdown",
      "metadata": {
        "collapsed": true,
        "id": "ERyD7EKgBjFP"
      },
      "source": [
        "<center> <h1> CSE 574 Project 1 </h1> </center>\n",
        "\n",
        "<center> <h2> Authors: Mihir Chauhan, Sargur Srihari </h2> </center>\n",
        "\n",
        "<center> <h2> Due Time and Date: 11:59PM October 7th 2020 </h2> </center>"
      ]
    },
    {
      "cell_type": "markdown",
      "metadata": {
        "id": "RQpRVkbIBjFQ"
      },
      "source": [
        "### Project 1 Task\n",
        "\n",
        "The task of this project is to perform classification using machine learning for a two class problem. The features used for classification are pre-computed from images of a fine needle aspirate (FNA) ofa breast mass.  Your task is to classify suspected FNA cells to Benign (class 0) or Malignant (class 1) using logistic regression as the classifier. The dataset in use is the Wisconsin Diagnostic Breast Cancer (wdbc.csv).\n",
        "\n"
      ]
    },
    {
      "cell_type": "markdown",
      "metadata": {
        "id": "5jT41D0BBjFR"
      },
      "source": [
        "### Dataset Description\n",
        "\n",
        "You will be using Wisconsin Diagnostic Breast Cancer (WDBC) dataset for training, validation and testing. The  dataset you are provided with is wdbc.csv  which contains  500  data points with  31  attributes (diagnosis  (B/M),  30  real-valued  inputfeatures). \n",
        "\n",
        "####  How are the 30 features computed? (Below info. is just for your knowledge)\n",
        "Features are computed from a digitized image of a fine needle aspirate (FNA) of a breastmass.  Computed features describes the following characteristics of the cell nuclei present in the image. \n",
        "\n",
        "|    |                              Feature                              |\n",
        "|----|:-----------------------------------------------------------------:|\n",
        "| 1  | radius (mean of distances from center to points on the perimeter) |\n",
        "| 2  | texture (standard deviation of gray-scale                         |\n",
        "| 3  | perimeter                                                         |\n",
        "| 4  | area                                                              |\n",
        "| 5  | smoothness (local variation in radius lengths)                    |\n",
        "| 6  | compactness (perimeter2/area − 1.0)                               |\n",
        "| 7  | concavity (severity of concave portions of the contour)           |\n",
        "| 8  | concave points (number of concave portions of the contour)        |\n",
        "| 9  | symmetry                                                          |\n",
        "| 10 | fractal dimension (“coastline approximation” - 1)                 |\n",
        "\n",
        "The mean, standard error, and “worst” or largest (mean of the three largest values) of these features were computed for each image, resulting in <b>30 features<b>."
      ]
    },
    {
      "cell_type": "markdown",
      "metadata": {
        "id": "5ckmZo8lBjFS"
      },
      "source": [
        "### Plan of work"
      ]
    },
    {
      "cell_type": "markdown",
      "metadata": {
        "id": "CVEiY_CgBjFT"
      },
      "source": [
        "#### STEP 1: Import Libraries\n",
        "\n",
        "You are NOT ALLOWED to use any libraries for directly implementing Logistic Regression.\n",
        "\n",
        "For eg. [sklearn.linear_model.LogisticRegression](https://scikit-learn.org/stable/modules/generated/sklearn.linear_model.LogisticRegression.html) <font color='red'>NOT ALLLOWED</font>\n",
        "\n",
        "You need to implement Logistic Regression from scratch using Gradient Descent Optimization Algorithm. \n",
        "\n",
        "You can use libraries for:\n",
        "* loading data (Pandas, Numpy), <font color='green'>ALLLOWED</font>\n",
        "* Preprocessing Data (sklearn > preprocessing), <font color='green'>ALLLOWED</font>\n",
        "* Partitioning Data (sklearns > train_test_split), <font color='green'>ALLLOWED</font>\n",
        "* Plotting Graphs (Matplotlib) <font color='green'>ALLLOWED</font>\n",
        "* Finding Accuracy, Precision, Recall using sklearn.metrics <font color='green'>ALLLOWED</font>\n",
        "\n",
        "You can alternatively use other libraries to implement any sub-task (e.g. loading, partitioning etc.)"
      ]
    },
    {
      "cell_type": "code",
      "metadata": {
        "id": "k3HEudUXBjFT"
      },
      "source": [
        "import math\n",
        "import numpy as np\n",
        "import pandas as pd\n",
        "from sklearn.model_selection import train_test_split\n",
        "from sklearn import preprocessing\n",
        "from sklearn.metrics import accuracy_score, precision_score, recall_score\n",
        "import matplotlib.pyplot as plt\n",
        "from numpy import savetxt, loadtxt\n",
        "% matplotlib inline"
      ],
      "execution_count": 1,
      "outputs": []
    },
    {
      "cell_type": "markdown",
      "metadata": {
        "id": "jxWDqEHcBjFY"
      },
      "source": [
        "#### Step 2: Data Loading <font color='blue'>(5 Points)</font>\n",
        "\n",
        "1. Read 'wdbc.csv' data using Pandas library. Load the data in a dataframe\n",
        "2. Drop first row as it is the header row\n",
        "2. Map Malignant to Class 1 and Benign to Class 0"
      ]
    },
    {
      "cell_type": "code",
      "metadata": {
        "id": "1-6nOqHqBjFY",
        "outputId": "2753bb87-761c-4b18-db42-e223434648ce",
        "colab": {
          "base_uri": "https://localhost:8080/",
          "height": 379
        }
      },
      "source": [
        "data = pd.read_csv(\"wdbc.csv\") \n",
        "data.shape\n",
        "data.head(10)\n",
        "# data.isna().sum()\n",
        "\n",
        "# X = data.iloc[:, data.columns != 'y'].values\n",
        "# # Y = data['y'] \n",
        "# # X,Y\n",
        "# Y = Y.map({'M': 1, 'B': 0})\n",
        "# Y=Y.values\n",
        "# data.shape\n",
        "# data.isna().sum()\n",
        "# data['y'].value_counts()\n",
        "# data.dtypes\n",
        "# type(X,Y.values)\n"
      ],
      "execution_count": 2,
      "outputs": [
        {
          "output_type": "execute_result",
          "data": {
            "text/html": [
              "<div>\n",
              "<style scoped>\n",
              "    .dataframe tbody tr th:only-of-type {\n",
              "        vertical-align: middle;\n",
              "    }\n",
              "\n",
              "    .dataframe tbody tr th {\n",
              "        vertical-align: top;\n",
              "    }\n",
              "\n",
              "    .dataframe thead th {\n",
              "        text-align: right;\n",
              "    }\n",
              "</style>\n",
              "<table border=\"1\" class=\"dataframe\">\n",
              "  <thead>\n",
              "    <tr style=\"text-align: right;\">\n",
              "      <th></th>\n",
              "      <th>y</th>\n",
              "      <th>x1</th>\n",
              "      <th>x2</th>\n",
              "      <th>x3</th>\n",
              "      <th>x4</th>\n",
              "      <th>x5</th>\n",
              "      <th>x6</th>\n",
              "      <th>x7</th>\n",
              "      <th>x8</th>\n",
              "      <th>x9</th>\n",
              "      <th>x10</th>\n",
              "      <th>x11</th>\n",
              "      <th>x12</th>\n",
              "      <th>x13</th>\n",
              "      <th>x14</th>\n",
              "      <th>x15</th>\n",
              "      <th>x16</th>\n",
              "      <th>x17</th>\n",
              "      <th>x18</th>\n",
              "      <th>x19</th>\n",
              "      <th>x20</th>\n",
              "      <th>x21</th>\n",
              "      <th>x22</th>\n",
              "      <th>x23</th>\n",
              "      <th>x24</th>\n",
              "      <th>x25</th>\n",
              "      <th>x26</th>\n",
              "      <th>x27</th>\n",
              "      <th>x28</th>\n",
              "      <th>x29</th>\n",
              "      <th>x30</th>\n",
              "    </tr>\n",
              "  </thead>\n",
              "  <tbody>\n",
              "    <tr>\n",
              "      <th>0</th>\n",
              "      <td>M</td>\n",
              "      <td>17.99</td>\n",
              "      <td>10.38</td>\n",
              "      <td>122.80</td>\n",
              "      <td>1001.0</td>\n",
              "      <td>0.11840</td>\n",
              "      <td>0.27760</td>\n",
              "      <td>0.30010</td>\n",
              "      <td>0.14710</td>\n",
              "      <td>0.2419</td>\n",
              "      <td>0.07871</td>\n",
              "      <td>1.0950</td>\n",
              "      <td>0.9053</td>\n",
              "      <td>8.589</td>\n",
              "      <td>153.40</td>\n",
              "      <td>0.006399</td>\n",
              "      <td>0.04904</td>\n",
              "      <td>0.05373</td>\n",
              "      <td>0.01587</td>\n",
              "      <td>0.03003</td>\n",
              "      <td>0.006193</td>\n",
              "      <td>25.38</td>\n",
              "      <td>17.33</td>\n",
              "      <td>184.60</td>\n",
              "      <td>2019.0</td>\n",
              "      <td>0.1622</td>\n",
              "      <td>0.6656</td>\n",
              "      <td>0.7119</td>\n",
              "      <td>0.2654</td>\n",
              "      <td>0.4601</td>\n",
              "      <td>0.11890</td>\n",
              "    </tr>\n",
              "    <tr>\n",
              "      <th>1</th>\n",
              "      <td>M</td>\n",
              "      <td>20.57</td>\n",
              "      <td>17.77</td>\n",
              "      <td>132.90</td>\n",
              "      <td>1326.0</td>\n",
              "      <td>0.08474</td>\n",
              "      <td>0.07864</td>\n",
              "      <td>0.08690</td>\n",
              "      <td>0.07017</td>\n",
              "      <td>0.1812</td>\n",
              "      <td>0.05667</td>\n",
              "      <td>0.5435</td>\n",
              "      <td>0.7339</td>\n",
              "      <td>3.398</td>\n",
              "      <td>74.08</td>\n",
              "      <td>0.005225</td>\n",
              "      <td>0.01308</td>\n",
              "      <td>0.01860</td>\n",
              "      <td>0.01340</td>\n",
              "      <td>0.01389</td>\n",
              "      <td>0.003532</td>\n",
              "      <td>24.99</td>\n",
              "      <td>23.41</td>\n",
              "      <td>158.80</td>\n",
              "      <td>1956.0</td>\n",
              "      <td>0.1238</td>\n",
              "      <td>0.1866</td>\n",
              "      <td>0.2416</td>\n",
              "      <td>0.1860</td>\n",
              "      <td>0.2750</td>\n",
              "      <td>0.08902</td>\n",
              "    </tr>\n",
              "    <tr>\n",
              "      <th>2</th>\n",
              "      <td>M</td>\n",
              "      <td>19.69</td>\n",
              "      <td>21.25</td>\n",
              "      <td>130.00</td>\n",
              "      <td>1203.0</td>\n",
              "      <td>0.10960</td>\n",
              "      <td>0.15990</td>\n",
              "      <td>0.19740</td>\n",
              "      <td>0.12790</td>\n",
              "      <td>0.2069</td>\n",
              "      <td>0.05999</td>\n",
              "      <td>0.7456</td>\n",
              "      <td>0.7869</td>\n",
              "      <td>4.585</td>\n",
              "      <td>94.03</td>\n",
              "      <td>0.006150</td>\n",
              "      <td>0.04006</td>\n",
              "      <td>0.03832</td>\n",
              "      <td>0.02058</td>\n",
              "      <td>0.02250</td>\n",
              "      <td>0.004571</td>\n",
              "      <td>23.57</td>\n",
              "      <td>25.53</td>\n",
              "      <td>152.50</td>\n",
              "      <td>1709.0</td>\n",
              "      <td>0.1444</td>\n",
              "      <td>0.4245</td>\n",
              "      <td>0.4504</td>\n",
              "      <td>0.2430</td>\n",
              "      <td>0.3613</td>\n",
              "      <td>0.08758</td>\n",
              "    </tr>\n",
              "    <tr>\n",
              "      <th>3</th>\n",
              "      <td>M</td>\n",
              "      <td>11.42</td>\n",
              "      <td>20.38</td>\n",
              "      <td>77.58</td>\n",
              "      <td>386.1</td>\n",
              "      <td>0.14250</td>\n",
              "      <td>0.28390</td>\n",
              "      <td>0.24140</td>\n",
              "      <td>0.10520</td>\n",
              "      <td>0.2597</td>\n",
              "      <td>0.09744</td>\n",
              "      <td>0.4956</td>\n",
              "      <td>1.1560</td>\n",
              "      <td>3.445</td>\n",
              "      <td>27.23</td>\n",
              "      <td>0.009110</td>\n",
              "      <td>0.07458</td>\n",
              "      <td>0.05661</td>\n",
              "      <td>0.01867</td>\n",
              "      <td>0.05963</td>\n",
              "      <td>0.009208</td>\n",
              "      <td>14.91</td>\n",
              "      <td>26.50</td>\n",
              "      <td>98.87</td>\n",
              "      <td>567.7</td>\n",
              "      <td>0.2098</td>\n",
              "      <td>0.8663</td>\n",
              "      <td>0.6869</td>\n",
              "      <td>0.2575</td>\n",
              "      <td>0.6638</td>\n",
              "      <td>0.17300</td>\n",
              "    </tr>\n",
              "    <tr>\n",
              "      <th>4</th>\n",
              "      <td>M</td>\n",
              "      <td>20.29</td>\n",
              "      <td>14.34</td>\n",
              "      <td>135.10</td>\n",
              "      <td>1297.0</td>\n",
              "      <td>0.10030</td>\n",
              "      <td>0.13280</td>\n",
              "      <td>0.19800</td>\n",
              "      <td>0.10430</td>\n",
              "      <td>0.1809</td>\n",
              "      <td>0.05883</td>\n",
              "      <td>0.7572</td>\n",
              "      <td>0.7813</td>\n",
              "      <td>5.438</td>\n",
              "      <td>94.44</td>\n",
              "      <td>0.011490</td>\n",
              "      <td>0.02461</td>\n",
              "      <td>0.05688</td>\n",
              "      <td>0.01885</td>\n",
              "      <td>0.01756</td>\n",
              "      <td>0.005115</td>\n",
              "      <td>22.54</td>\n",
              "      <td>16.67</td>\n",
              "      <td>152.20</td>\n",
              "      <td>1575.0</td>\n",
              "      <td>0.1374</td>\n",
              "      <td>0.2050</td>\n",
              "      <td>0.4000</td>\n",
              "      <td>0.1625</td>\n",
              "      <td>0.2364</td>\n",
              "      <td>0.07678</td>\n",
              "    </tr>\n",
              "    <tr>\n",
              "      <th>5</th>\n",
              "      <td>M</td>\n",
              "      <td>12.45</td>\n",
              "      <td>15.70</td>\n",
              "      <td>82.57</td>\n",
              "      <td>477.1</td>\n",
              "      <td>0.12780</td>\n",
              "      <td>0.17000</td>\n",
              "      <td>0.15780</td>\n",
              "      <td>0.08089</td>\n",
              "      <td>0.2087</td>\n",
              "      <td>0.07613</td>\n",
              "      <td>0.3345</td>\n",
              "      <td>0.8902</td>\n",
              "      <td>2.217</td>\n",
              "      <td>27.19</td>\n",
              "      <td>0.007510</td>\n",
              "      <td>0.03345</td>\n",
              "      <td>0.03672</td>\n",
              "      <td>0.01137</td>\n",
              "      <td>0.02165</td>\n",
              "      <td>0.005082</td>\n",
              "      <td>15.47</td>\n",
              "      <td>23.75</td>\n",
              "      <td>103.40</td>\n",
              "      <td>741.6</td>\n",
              "      <td>0.1791</td>\n",
              "      <td>0.5249</td>\n",
              "      <td>0.5355</td>\n",
              "      <td>0.1741</td>\n",
              "      <td>0.3985</td>\n",
              "      <td>0.12440</td>\n",
              "    </tr>\n",
              "    <tr>\n",
              "      <th>6</th>\n",
              "      <td>M</td>\n",
              "      <td>18.25</td>\n",
              "      <td>19.98</td>\n",
              "      <td>119.60</td>\n",
              "      <td>1040.0</td>\n",
              "      <td>0.09463</td>\n",
              "      <td>0.10900</td>\n",
              "      <td>0.11270</td>\n",
              "      <td>0.07400</td>\n",
              "      <td>0.1794</td>\n",
              "      <td>0.05742</td>\n",
              "      <td>0.4467</td>\n",
              "      <td>0.7732</td>\n",
              "      <td>3.180</td>\n",
              "      <td>53.91</td>\n",
              "      <td>0.004314</td>\n",
              "      <td>0.01382</td>\n",
              "      <td>0.02254</td>\n",
              "      <td>0.01039</td>\n",
              "      <td>0.01369</td>\n",
              "      <td>0.002179</td>\n",
              "      <td>22.88</td>\n",
              "      <td>27.66</td>\n",
              "      <td>153.20</td>\n",
              "      <td>1606.0</td>\n",
              "      <td>0.1442</td>\n",
              "      <td>0.2576</td>\n",
              "      <td>0.3784</td>\n",
              "      <td>0.1932</td>\n",
              "      <td>0.3063</td>\n",
              "      <td>0.08368</td>\n",
              "    </tr>\n",
              "    <tr>\n",
              "      <th>7</th>\n",
              "      <td>M</td>\n",
              "      <td>13.71</td>\n",
              "      <td>20.83</td>\n",
              "      <td>90.20</td>\n",
              "      <td>577.9</td>\n",
              "      <td>0.11890</td>\n",
              "      <td>0.16450</td>\n",
              "      <td>0.09366</td>\n",
              "      <td>0.05985</td>\n",
              "      <td>0.2196</td>\n",
              "      <td>0.07451</td>\n",
              "      <td>0.5835</td>\n",
              "      <td>1.3770</td>\n",
              "      <td>3.856</td>\n",
              "      <td>50.96</td>\n",
              "      <td>0.008805</td>\n",
              "      <td>0.03029</td>\n",
              "      <td>0.02488</td>\n",
              "      <td>0.01448</td>\n",
              "      <td>0.01486</td>\n",
              "      <td>0.005412</td>\n",
              "      <td>17.06</td>\n",
              "      <td>28.14</td>\n",
              "      <td>110.60</td>\n",
              "      <td>897.0</td>\n",
              "      <td>0.1654</td>\n",
              "      <td>0.3682</td>\n",
              "      <td>0.2678</td>\n",
              "      <td>0.1556</td>\n",
              "      <td>0.3196</td>\n",
              "      <td>0.11510</td>\n",
              "    </tr>\n",
              "    <tr>\n",
              "      <th>8</th>\n",
              "      <td>M</td>\n",
              "      <td>13.00</td>\n",
              "      <td>21.82</td>\n",
              "      <td>87.50</td>\n",
              "      <td>519.8</td>\n",
              "      <td>0.12730</td>\n",
              "      <td>0.19320</td>\n",
              "      <td>0.18590</td>\n",
              "      <td>0.09353</td>\n",
              "      <td>0.2350</td>\n",
              "      <td>0.07389</td>\n",
              "      <td>0.3063</td>\n",
              "      <td>1.0020</td>\n",
              "      <td>2.406</td>\n",
              "      <td>24.32</td>\n",
              "      <td>0.005731</td>\n",
              "      <td>0.03502</td>\n",
              "      <td>0.03553</td>\n",
              "      <td>0.01226</td>\n",
              "      <td>0.02143</td>\n",
              "      <td>0.003749</td>\n",
              "      <td>15.49</td>\n",
              "      <td>30.73</td>\n",
              "      <td>106.20</td>\n",
              "      <td>739.3</td>\n",
              "      <td>0.1703</td>\n",
              "      <td>0.5401</td>\n",
              "      <td>0.5390</td>\n",
              "      <td>0.2060</td>\n",
              "      <td>0.4378</td>\n",
              "      <td>0.10720</td>\n",
              "    </tr>\n",
              "    <tr>\n",
              "      <th>9</th>\n",
              "      <td>M</td>\n",
              "      <td>12.46</td>\n",
              "      <td>24.04</td>\n",
              "      <td>83.97</td>\n",
              "      <td>475.9</td>\n",
              "      <td>0.11860</td>\n",
              "      <td>0.23960</td>\n",
              "      <td>0.22730</td>\n",
              "      <td>0.08543</td>\n",
              "      <td>0.2030</td>\n",
              "      <td>0.08243</td>\n",
              "      <td>0.2976</td>\n",
              "      <td>1.5990</td>\n",
              "      <td>2.039</td>\n",
              "      <td>23.94</td>\n",
              "      <td>0.007149</td>\n",
              "      <td>0.07217</td>\n",
              "      <td>0.07743</td>\n",
              "      <td>0.01432</td>\n",
              "      <td>0.01789</td>\n",
              "      <td>0.010080</td>\n",
              "      <td>15.09</td>\n",
              "      <td>40.68</td>\n",
              "      <td>97.65</td>\n",
              "      <td>711.4</td>\n",
              "      <td>0.1853</td>\n",
              "      <td>1.0580</td>\n",
              "      <td>1.1050</td>\n",
              "      <td>0.2210</td>\n",
              "      <td>0.4366</td>\n",
              "      <td>0.20750</td>\n",
              "    </tr>\n",
              "  </tbody>\n",
              "</table>\n",
              "</div>"
            ],
            "text/plain": [
              "   y     x1     x2      x3      x4  ...     x26     x27     x28     x29      x30\n",
              "0  M  17.99  10.38  122.80  1001.0  ...  0.6656  0.7119  0.2654  0.4601  0.11890\n",
              "1  M  20.57  17.77  132.90  1326.0  ...  0.1866  0.2416  0.1860  0.2750  0.08902\n",
              "2  M  19.69  21.25  130.00  1203.0  ...  0.4245  0.4504  0.2430  0.3613  0.08758\n",
              "3  M  11.42  20.38   77.58   386.1  ...  0.8663  0.6869  0.2575  0.6638  0.17300\n",
              "4  M  20.29  14.34  135.10  1297.0  ...  0.2050  0.4000  0.1625  0.2364  0.07678\n",
              "5  M  12.45  15.70   82.57   477.1  ...  0.5249  0.5355  0.1741  0.3985  0.12440\n",
              "6  M  18.25  19.98  119.60  1040.0  ...  0.2576  0.3784  0.1932  0.3063  0.08368\n",
              "7  M  13.71  20.83   90.20   577.9  ...  0.3682  0.2678  0.1556  0.3196  0.11510\n",
              "8  M  13.00  21.82   87.50   519.8  ...  0.5401  0.5390  0.2060  0.4378  0.10720\n",
              "9  M  12.46  24.04   83.97   475.9  ...  1.0580  1.1050  0.2210  0.4366  0.20750\n",
              "\n",
              "[10 rows x 31 columns]"
            ]
          },
          "metadata": {
            "tags": []
          },
          "execution_count": 2
        }
      ]
    },
    {
      "cell_type": "code",
      "metadata": {
        "id": "NBGSdyGIbhwv",
        "outputId": "b2a437bc-501d-485e-b016-6cb926025570",
        "colab": {
          "base_uri": "https://localhost:8080/"
        }
      },
      "source": [
        "from sklearn.preprocessing import LabelEncoder\n",
        "labelencoder_fory=LabelEncoder()\n",
        "data.iloc[:,0]=labelencoder_fory.fit_transform(data.iloc[:,0].values)\n",
        "data.dtypes"
      ],
      "execution_count": 3,
      "outputs": [
        {
          "output_type": "execute_result",
          "data": {
            "text/plain": [
              "y        int64\n",
              "x1     float64\n",
              "x2     float64\n",
              "x3     float64\n",
              "x4     float64\n",
              "x5     float64\n",
              "x6     float64\n",
              "x7     float64\n",
              "x8     float64\n",
              "x9     float64\n",
              "x10    float64\n",
              "x11    float64\n",
              "x12    float64\n",
              "x13    float64\n",
              "x14    float64\n",
              "x15    float64\n",
              "x16    float64\n",
              "x17    float64\n",
              "x18    float64\n",
              "x19    float64\n",
              "x20    float64\n",
              "x21    float64\n",
              "x22    float64\n",
              "x23    float64\n",
              "x24    float64\n",
              "x25    float64\n",
              "x26    float64\n",
              "x27    float64\n",
              "x28    float64\n",
              "x29    float64\n",
              "x30    float64\n",
              "dtype: object"
            ]
          },
          "metadata": {
            "tags": []
          },
          "execution_count": 3
        }
      ]
    },
    {
      "cell_type": "code",
      "metadata": {
        "id": "cGQIsM_jc-08"
      },
      "source": [
        "X=data.iloc[:, data.columns != 'y'].values\n",
        "Y=data['y'].values\n",
        "# type(Y)"
      ],
      "execution_count": 4,
      "outputs": []
    },
    {
      "cell_type": "code",
      "metadata": {
        "id": "FfyQpEInd396"
      },
      "source": [
        ""
      ],
      "execution_count": 4,
      "outputs": []
    },
    {
      "cell_type": "markdown",
      "metadata": {
        "id": "QbeHTnQyBjFb"
      },
      "source": [
        "#### Step 3: Data Partitioning <font color='blue'>(5 Points)</font>\n",
        "\n",
        "1. Partition your data into training (80%), validation (20%) and testing data(20%) using sklearn library (Hint: use train_test_split)\n",
        "2. Seperate Target Label (y) and Features (x1 to x30) for training, validation and testing data."
      ]
    },
    {
      "cell_type": "code",
      "metadata": {
        "id": "vm8hCEB7BjFc",
        "outputId": "68a1a496-4e03-47c7-c829-5af3b53892b7",
        "colab": {
          "base_uri": "https://localhost:8080/"
        }
      },
      "source": [
        "#splitting train-80%,val-10%,test-10%,for second train_test split 10% will be corresponds to 11.11111...%\n",
        "\n",
        "X_train, X_test, Y_train, Y_test = train_test_split(X, Y, test_size=0.10, random_state=42) #step 3\n",
        "# X_train.shape,X_test.shape\n",
        "X_train, X_val, Y_train, Y_val = train_test_split(X_train, Y_train, test_size=1/9, random_state=42)\n",
        "X_train.shape,X_val.shape,X_test.shape"
      ],
      "execution_count": 5,
      "outputs": [
        {
          "output_type": "execute_result",
          "data": {
            "text/plain": [
              "((400, 30), (50, 30), (50, 30))"
            ]
          },
          "metadata": {
            "tags": []
          },
          "execution_count": 5
        }
      ]
    },
    {
      "cell_type": "markdown",
      "metadata": {
        "id": "YWJ5cSu5BjFg"
      },
      "source": [
        "#### Step 4: Scaling Features <font color='blue'>(5 Points)</font>\n",
        "\n",
        "One simple scaling function that you could use off the shelf is Min Max Scaler function of Sklearns. Min Max scaler function transforms features by scaling each feature to a range between <b> 0 and 1 </b>. This estimator scales and translates each feature individually such that it is in the given range on the training set, e.g. between zero and one.\n",
        "\n",
        "The transformation is given by:\n",
        "\n",
        "$X_{std} = \\frac{X - X_{min}}{X_{max} - X_{min}}$\n",
        "\n",
        "$X_{scaled} = X_{std} * (maxRange - minRange) + minRange$\n",
        "\n",
        "$maxRange$ = 1, <br>\n",
        "$minRange$ = 0, <br>\n",
        "$X_{max}$ and $X_{min}$ are over axis = 0 (Each columns max and min value) \n",
        "\n",
        "##### Why do we need to scale features?\n",
        "We scale the data to bring all the features to the same range (in our case between 0 and 1)."
      ]
    },
    {
      "cell_type": "markdown",
      "metadata": {
        "id": "sdirt44JBjFh"
      },
      "source": [
        "#### Hint, make sure the dimensionality of the training features, weights, biases are consistent for np.dot and np.multiply"
      ]
    },
    {
      "cell_type": "code",
      "metadata": {
        "id": "HFryF8NXBjFi"
      },
      "source": [
        "from sklearn.preprocessing import MinMaxScaler\n",
        "scaler = MinMaxScaler()\n",
        "X_scaler_train = scaler.fit_transform(X_train)\n",
        "X_scaler_test = scaler.transform(X_test)\n",
        "X_scaler_val=scaler.transform(X_val)\n",
        "# X_scaler_test,X_scaler_train,X_scaler_val"
      ],
      "execution_count": 6,
      "outputs": []
    },
    {
      "cell_type": "code",
      "metadata": {
        "id": "T7aQgKLQUuPI"
      },
      "source": [
        "# X_scaler_train.shape,X_scaler_train.shape,X_scaler_train.shape,X_scaler_train.shape"
      ],
      "execution_count": 7,
      "outputs": []
    },
    {
      "cell_type": "code",
      "metadata": {
        "id": "qvNixGQRM-Mn"
      },
      "source": [
        "# Step 4 already implemented\n",
        "# print(Y_train.shape[0],Y_train.shape,Y_train,X_scaler_train)\n",
        "y_train_arr = Y_train.reshape(Y_train.shape[0],1).T\n",
        "x_train_arr = X_scaler_train.T\n",
        "y_val_arr = Y_val.reshape(Y_val.shape[0],1).T\n",
        "x_val_arr = X_scaler_val.T\n",
        "y_test_arr  = Y_test.reshape(Y_test.shape[0],1).T\n",
        "x_test_arr  = X_scaler_test.T"
      ],
      "execution_count": 8,
      "outputs": []
    },
    {
      "cell_type": "code",
      "metadata": {
        "id": "ir_WKpy672-8"
      },
      "source": [
        "def prediction(X, w, b):\n",
        "    y_predict = np.zeros((1,X.shape[1] ))\n",
        "    Z=np.dot(w.T, X)+b\n",
        "    A_pred=1/(1+np.exp(-(Z)))\n",
        "    for i in range(A_pred.shape[1]):\n",
        "        if(A_pred[0,i]>0.5):y_predict[0,i]=1\n",
        "        else:y_predict[0,i]=0\n",
        "    return y_predict"
      ],
      "execution_count": 9,
      "outputs": []
    },
    {
      "cell_type": "markdown",
      "metadata": {
        "id": "RvMupdggBjFm"
      },
      "source": [
        "#### Step 5: Initialization of Variables\n",
        "* Initialize Hyper-Parameters (Learning Rate, Number of Epochs) to some value\n",
        "* Initialize weights to any random values (We have initialized weights as an array random values sampled from a normal distribution)\n",
        "* Initialize bias to any scalar value (We have initialized bias to value 0)\n",
        "* Initialize other variables which may be used for tracking cost, number of data points etc.."
      ]
    },
    {
      "cell_type": "code",
      "metadata": {
        "id": "LIAIAyCTBjFn"
      },
      "source": [
        "# Hyper parameter initialization\n",
        "learningrate = 0.01\n",
        "epochs = 30000\n",
        "bias = 0\n",
        "\n",
        "# intialize matrix with random values for weights with normal distribution\n",
        "# Return a sample (or samples) from the “standard normal” distribution.\n",
        "weights = np.random.randn(30,1)\n",
        "training_cost = []\n",
        "val_cost = []\n",
        "training_accuracy=[]\n",
        "validation_accuracy=[]\n",
        "\n",
        "w=weights\n",
        "b=bias\n",
        "  "
      ],
      "execution_count": 10,
      "outputs": []
    },
    {
      "cell_type": "markdown",
      "metadata": {
        "id": "OkaBAQ4RBjFr"
      },
      "source": [
        "#### Step 6: TRAINING with Logistic Regression Implementation using Gradient Descent Algorithm <font color='blue'>(30 Points)</font>\n",
        "\n",
        "Iteratively update the weights and biases for each epoch using:\n",
        "* Step 6.1: Use genesis equation $\\hat{y} = \\sigma (W.X + b)$ where $W$ is the weight array, $X$ is the input features and $\\hat{y}$ is the predicted value which will be between 0 and 1. (You will have to perform same operation on validation set as well)\n",
        "* Step 6.2: Find Binary Cross Entropy Cost for training and validation set using predicted value $\\hat{y}$ and truth value $y$\n",
        "* Step 6.3: Find $ \\Delta W = \\frac{\\delta L}{\\delta W}$ and $ \\Delta b = \\frac{\\delta L}{\\delta b}$ (Proof for finding  $ \\Delta W$ and $\\Delta b$ is available in prof. slides)\n",
        "* Step 6.4: Update $W$ and $b$ using learning rate as follows:\n",
        "  - $W = W - learningRate*\\Delta W$\n",
        "  - $b = b - learningRate*\\Delta b$\n",
        "* Step 6.5: Store BCE Cost for training and validation in seperate cost tracking list\n",
        "* Step 6.6: Calculate Training and Validation Accuracy and store in seperate accuracy tracking list (<b>Hint</b>: Threshold $\\hat{y}$ to 0.5 for category determination for finding accuracy)\n",
        "\n",
        "Run step 6 multiple times, each time with a different set of hyperparameters and determine the best set of hyperparameters which gives best training and validation accuracy. \n",
        "\n",
        "Corresponding to the best set of hyper parameters, you should get the best set of weights and bias."
      ]
    },
    {
      "cell_type": "code",
      "metadata": {
        "id": "69vmfvqGNpcL",
        "outputId": "aa034018-ecde-41a1-8e60-9d5f706a5947",
        "colab": {
          "base_uri": "https://localhost:8080/"
        }
      },
      "source": [
        "def accuracy_value(predictions , truth):\n",
        "  return (100 - np.mean(np.abs(predictions - truth)) * 100)\n",
        "\n",
        "for i in range(epochs):\n",
        "    m_train = x_train_arr.shape[1]\n",
        "    Z_train = np.dot(w.T, x_train_arr) + b    \n",
        "    \n",
        "    A_train=1/(1+np.exp(-Z_train))\n",
        "    cost_train= -(1/m_train) * np.sum(y_train_arr * np.log(A_train) + (1-y_train_arr) * np.log(1-A_train))\n",
        "\n",
        "    m_val = x_val_arr.shape[1]\n",
        "    Z_val = np.dot(w.T, x_val_arr) + b    \n",
        "    \n",
        "    A_val=1/(1+np.exp(-Z_val))\n",
        "    cost_val= -(1/m_val) * np.sum(y_val_arr * np.log(A_val) + (1-y_val_arr) * np.log(1-A_val))\n",
        "\n",
        "    dw = (1/m_train)* np.dot(x_train_arr, (A_train-y_train_arr).T)\n",
        "    db = (1/m_train)* np.sum(A_train-y_train_arr)\n",
        "    w = w - learningrate * dw\n",
        "    b = b - learningrate * db\n",
        "\n",
        "    training_cost.append(cost_train)\n",
        "    val_cost.append(cost_val)\n",
        "    Y_prediction_train = prediction(x_train_arr, w, b)\n",
        "    Y_prediction_val = prediction(x_val_arr, w, b)\n",
        "    training_accuracy.append(accuracy_value(Y_prediction_train , y_train_arr))\n",
        "    validation_accuracy.append(accuracy_value(Y_prediction_val , y_val_arr))\n",
        "\n",
        "    \n",
        "#calculating accuracy \n",
        "Y_prediction_train = prediction(x_train_arr, w, b)\n",
        "Y_prediction_val = prediction(x_val_arr, w, b)\n",
        "Y_prediction_test = prediction(x_test_arr,w, b)\n",
        "      \n",
        "print(\"\\n Training accuracy is : {} %\".format(accuracy_value(Y_prediction_train , y_train_arr)))\n",
        "print(\"\\n validation accuracy is : {} %\".format(accuracy_value(Y_prediction_val , y_val_arr)))   \n",
        "print(\"\\n Test accuracy is : {} %\".format(accuracy_value(Y_prediction_test , y_test_arr)))\n",
        "\n"
      ],
      "execution_count": 11,
      "outputs": [
        {
          "output_type": "stream",
          "text": [
            "\n",
            " Training accuracy is : 96.0 %\n",
            "\n",
            " validation accuracy is : 92.0 %\n",
            "\n",
            " Test accuracy is : 92.0 %\n"
          ],
          "name": "stdout"
        }
      ]
    },
    {
      "cell_type": "markdown",
      "metadata": {
        "id": "U-ZcnoTOBjFv"
      },
      "source": [
        "After performing all the steps above, the best set of updated weights and bias should be stored as a <i>weights_biases.csv</i> file. Your <i>weights_biases.csv</i> will tested on a hidden test set and you would be graded on how well your model (weights) performed on this hidden set <font color='blue'>(30 Points)</font>\n",
        "\n",
        "<b>(Do not change the code provided in the cell below for storing the weights and bias)</b>"
      ]
    },
    {
      "cell_type": "code",
      "metadata": {
        "id": "Vg8pxLjcBjFw",
        "outputId": "acd38f2e-099f-43f9-cfeb-137aa9b9fbce",
        "colab": {
          "base_uri": "https://localhost:8080/"
        }
      },
      "source": [
        "# Save the weights file (DO NOT CHANGE THIS CODE)\n",
        "weights_bias = np.append(weights,bias)\n",
        "\n",
        "if weights_bias.shape == (31,):\n",
        "    print(\"Weights and Bias consistent :) \")\n",
        "    savetxt('weights_bias.csv', weights_bias, delimiter=',')\n",
        "else:\n",
        "    print(\"Weights and Bias inconsistent :( \\\\\n",
        "          Weights array shape should be (30,) and Bias should be a scalar \\\\\n",
        "          weights_bias variable should be shaped as (31,)\")"
      ],
      "execution_count": 12,
      "outputs": [
        {
          "output_type": "stream",
          "text": [
            "Weights and Bias consistent :) \n"
          ],
          "name": "stdout"
        }
      ]
    },
    {
      "cell_type": "markdown",
      "metadata": {
        "id": "3l_NEBUaBjFz"
      },
      "source": [
        "#### Step 7: Plot Training and Validation Cost vs Number of Epochs <font color='blue'>(5 Points)</font>"
      ]
    },
    {
      "cell_type": "code",
      "metadata": {
        "scrolled": true,
        "id": "JDi6_DhUBjF0",
        "outputId": "a7904ba9-d67a-43b2-c450-eafefd664e48",
        "colab": {
          "base_uri": "https://localhost:8080/",
          "height": 295
        }
      },
      "source": [
        "import matplotlib.pyplot as plt\n",
        "plt.title('Training and Validation Loss With Learning Rate: ' + str(learningrate))\n",
        "plt.plot(training_cost, color='red', label='Training Data')\n",
        "plt.plot(val_cost, color='blue', label='Validation Data')\n",
        "plt.xlabel('Epochs')\n",
        "plt.ylabel('Loss')\n",
        "plt.legend()\n",
        "plt.show()"
      ],
      "execution_count": 13,
      "outputs": [
        {
          "output_type": "display_data",
          "data": {
            "image/png": "[encoded data removed]",
            "text/plain": [
              "<Figure size 432x288 with 1 Axes>"
            ]
          },
          "metadata": {
            "tags": [],
            "needs_background": "light"
          }
        }
      ]
    },
    {
      "cell_type": "markdown",
      "metadata": {
        "id": "S2RFOL_7BjF2"
      },
      "source": [
        "####  Step 8: Plot Training and Validation Accuracy vs Number of Epochs <font color='blue'>(5 Points)</font>"
      ]
    },
    {
      "cell_type": "code",
      "metadata": {
        "id": "NkYXaH9uBjF3",
        "outputId": "e9ccda86-ad68-42fd-83bf-f4a40fad501d",
        "colab": {
          "base_uri": "https://localhost:8080/",
          "height": 295
        }
      },
      "source": [
        "import matplotlib.pyplot as plt\n",
        "plt.title('Training and Validation Accuracy With Learning Rate: ' + str(learningrate))\n",
        "plt.plot(training_accuracy, color='red', label='Training Data')\n",
        "plt.plot(validation_accuracy, color='blue', label='Validation Data')\n",
        "plt.xlabel('Epochs')\n",
        "plt.ylabel('Accuracy')\n",
        "plt.legend()\n",
        "plt.show()"
      ],
      "execution_count": 14,
      "outputs": [
        {
          "output_type": "display_data",
          "data": {
            "image/png": "[encoded data removed]",
            "text/plain": [
              "<Figure size 432x288 with 1 Axes>"
            ]
          },
          "metadata": {
            "tags": [],
            "needs_background": "light"
          }
        }
      ]
    },
    {
      "cell_type": "markdown",
      "metadata": {
        "id": "MJaGCDDiBjF6"
      },
      "source": [
        "#### Step 9: Test your model using tesing data <font color='blue'>(15 Points)</font>\n",
        "\n",
        "* Step 9.1: Use genesis equation $\\hat{y} = \\sigma (W.X_{test} + b)$ where $W$ is the weight array, $X_{test}$ is the input test features and $\\hat{y}$ is the predicted value which will be between 0 and 1.\n",
        "* Step 9.2: Threshold $\\hat{y}$ at 0.5 to find the category for each data point.\n",
        "* Step 9.3: Find accuracy, precision and recall for testing data (you can use sklearns.metrics library)"
      ]
    },
    {
      "cell_type": "code",
      "metadata": {
        "id": "LowhLQneBjF7",
        "outputId": "0c5754e8-8066-472e-8b3d-c91fbfea6fff",
        "colab": {
          "base_uri": "https://localhost:8080/"
        }
      },
      "source": [
        "Y_prediction_test = prediction(x_test_arr,w, b)\n",
        "print(\"\\nTest accuracy: {} %\".format(accuracy_value(Y_prediction_test , y_test_arr)))\n",
        "from sklearn.metrics import accuracy_score,recall_score,average_precision_score\n",
        "accuracy_score(Y_test, Y_prediction_test.flatten())"
      ],
      "execution_count": 15,
      "outputs": [
        {
          "output_type": "stream",
          "text": [
            "\n",
            "Test accuracy: 92.0 %\n"
          ],
          "name": "stdout"
        },
        {
          "output_type": "execute_result",
          "data": {
            "text/plain": [
              "0.92"
            ]
          },
          "metadata": {
            "tags": []
          },
          "execution_count": 15
        }
      ]
    },
    {
      "cell_type": "code",
      "metadata": {
        "id": "sIUz-CsQT61F",
        "outputId": "61c71b30-84b7-4ed2-9940-b10fa7cd2016",
        "colab": {
          "base_uri": "https://localhost:8080/"
        }
      },
      "source": [
        "recall_score(Y_test, Y_prediction_test.flatten())"
      ],
      "execution_count": 16,
      "outputs": [
        {
          "output_type": "execute_result",
          "data": {
            "text/plain": [
              "0.8333333333333334"
            ]
          },
          "metadata": {
            "tags": []
          },
          "execution_count": 16
        }
      ]
    },
    {
      "cell_type": "code",
      "metadata": {
        "id": "1g3HVVcTU5_n",
        "outputId": "93f2ca68-e4ff-441e-92ac-ccada23a94a1",
        "colab": {
          "base_uri": "https://localhost:8080/"
        }
      },
      "source": [
        "from sklearn.metrics import precision_score\n",
        "precision_score(Y_test, Y_prediction_test.flatten())"
      ],
      "execution_count": 17,
      "outputs": [
        {
          "output_type": "execute_result",
          "data": {
            "text/plain": [
              "0.9375"
            ]
          },
          "metadata": {
            "tags": []
          },
          "execution_count": 17
        }
      ]
    },
    {
      "cell_type": "code",
      "metadata": {
        "id": "KHu9NZ_QVldW"
      },
      "source": [
        ""
      ],
      "execution_count": 17,
      "outputs": []
    },
    {
      "cell_type": "code",
      "metadata": {
        "id": "ysjjBEwLT83v"
      },
      "source": [
        ""
      ],
      "execution_count": 17,
      "outputs": []
    },
    {
      "cell_type": "markdown",
      "metadata": {
        "id": "_81gvknWBjF-"
      },
      "source": [
        "#### Step 10: Submission to timberlake server\n",
        "\n",
        "* The code for your implementation should be in this Python notebook with necessary comments within the code.\n",
        "\n",
        "* Your <b> Python Code file </b> `main.ipynb`, <b> Data File </b> `wdbc.csv` and your <b>Trained Weights and Bias File</b> `weights_bias.csv`</b> should be put in a single folder named as `proj1code`. \n",
        "\n",
        "* `proj1code` folder should be zipped with the resulting zip file name as `proj1code.zip`.\n",
        "\n",
        "* Submit the Python code on CSE timberlake server with the following script:\n",
        "\n",
        " - `submit_cse474 proj1code.zip` for undergraduates\n",
        " - `submit_cse574 proj1code.zip` for graduates"
      ]
    },
    {
      "cell_type": "markdown",
      "metadata": {
        "id": "Y9AL05GZBjF_"
      },
      "source": [
        "### Grading Rubric\n",
        "* <b>30 Points:</b> Your trained `weights_bias.csv` will be automatically graded using a script on unbiased hidden test data file. Hence, it is important that your `weights_biases` should of dimensionality (31,) and properly trained.\n",
        "* <b>30 Points:</b> Training logic for implementing logistic regression (Step 6)\n",
        "* <b>15 Points:</b> Testing Accuracy, Precision and Recall (Step 9)\n",
        "* <b>5 Points:</b> Plot of Training and Validation cost vs No. of epochs (Step 7) \n",
        "* <b>5 Points:</b> Plot of Training and Validation accuracy vs No. of epochs (Step 8)\n",
        "* <b> 5 points: </b> Scaling features (Step 4)\n",
        "* <b> 5 points: </b> Partitioning Data (Step 3)\n",
        "* <b> 5 points: </b> Data loading (Step 2)"
      ]
    }
  ]
}